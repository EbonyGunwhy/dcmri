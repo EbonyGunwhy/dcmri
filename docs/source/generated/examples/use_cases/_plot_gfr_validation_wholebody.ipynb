{
  "cells": [
    {
      "cell_type": "markdown",
      "metadata": {},
      "source": [
        "\n# GFR validation study\n\nSK-GFR validation\n\nReference\n--------- \n\nTBC\n"
      ]
    },
    {
      "cell_type": "markdown",
      "metadata": {},
      "source": [
        "Import packages\n\n"
      ]
    },
    {
      "cell_type": "code",
      "execution_count": null,
      "metadata": {
        "collapsed": false
      },
      "outputs": [],
      "source": [
        "import os\nimport pandas as pd\nimport numpy as np\nimport matplotlib.pyplot as plt\nimport dcmri as dc\nfrom tqdm import tqdm\n\n\n# Create output folder in current working directory\npath = os.path.join(os.getcwd(), 'KRUK')\nif not os.path.exists(path):\n    os.makedirs(path)\n\n# data = dc.fetch('KRUK')\n\n\n# # %%\n# # Fit all datasets, export a plot for each subject and save all parameters in a dataframe:\n\n# results = []\n# const = ['TR','FA','field_strength','agent','dose','rate','weight','n0']\n# for scan in tqdm(data):\n#     if ('LK' in scan) and ('RK' in scan): # consider single kidney case\n#         B0 = scan['field_strength']\n#         xdata = (\n#             scan['time'],\n#             scan['time'],\n#             scan['time'],\n#         )\n#         ydata = (\n#             scan['aorta'],\n#             scan['LK'],\n#             scan['RK'],\n#         )\n#         T1_lk = scan['LK T1']\n#         T1_rk = scan['RK T1']\n#         T1_lk = dc.T1(B0, 'kidney') if T1_lk is None else T1_lk\n#         T1_rk = dc.T1(B0, 'kidney') if T1_rk is None else T1_rk\n#         model = dc.AortaKidneys(\n#             dt = 0.5,\n#             organs = 'comp',\n#             heartlung = 'chain',\n#             kidneys = '2CF',\n#             vol_lk = scan['LK vol'], # include in params\n#             vol_rk = scan['RK vol'], # include in params\n#             R10_lk = 1/T1_lk, # include in params\n#             R10_rk = 1/T1_rk, # include in params\n#             R10b = 1/dc.T1(B0, 'blood'), # include in params\n#             **{p:scan[p] for p in const},\n#         )\n#         model.train(xdata, ydata, xtol=1e-6)\n#         model.plot(xdata, ydata, show = False,\n#             fname = os.path.join(path, scan['subject']+'_'+scan['visit']+'.png')\n#         )\n#         pars = model.export_params()\n\n#         # Add the isotope values and goodness of fit to the export\n#         pars['NRMS'] = [\n#             'Normalized root-mean-square',\n#             model.cost(xdata, ydata), \n#             '%', 0,\n#         ]\n#         pars['LK iso-SK-GFR'] = [\n#             'LK - Isotope single-kidney GFR',\n#             scan['LK iso-SK-GFR'], \n#             'mL/sec', 0\n#         ]\n#         pars['RK iso-SK-GFR'] = [\n#             'RK - Isotope single-kidney GFR',\n#             scan['RK iso-SK-GFR'],\n#             'mL/sec', 0\n#         ]\n#         pars['iso-DRF'] = [\n#             'Isotope differential renal function',\n#             scan['LK iso-SK-GFR']/(scan['LK iso-SK-GFR']+scan['RK iso-SK-GFR']), \n#             '', 0\n#         ]\n\n#         # convert the parameter dictionary to a dataframe and append to results\n#         pars = pd.DataFrame.from_dict(pars, orient='index', \n#                 columns = [\"name\", \"value\", \"unit\", 'stdev'])\n#         val = pars.value.values\n#         cov = np.zeros(len(val))\n#         cov[val!=0] = 100*pars.stdev.values[val!=0]/val[val!=0]\n#         pars['subject'] = scan['subject']\n#         pars['visit'] = scan['visit']\n#         pars['parameter'] = pars.index\n#         pars['CoV (%)'] = cov\n#         pars['B0'] = B0\n#         results.append(pars)\n\n# # Combine all results into a single dataframe and save to working directory.\n# results = pd.concat(results).reset_index(drop=True)\n# results.to_csv(os.path.join(path, 'results.csv'))\n\n\n# # %%\n# # Plot MRI values and reference values\n\nresults = pd.read_csv(os.path.join(path, 'results.csv'))\n\nv1T = pd.pivot_table(results[results.B0==1], values='value', columns='parameter', index=['subject','visit'])\nv3T = pd.pivot_table(results[results.B0==3], values='value', columns='parameter', index=['subject','visit'])\n\nplt.plot(60*v1T['LK iso-SK-GFR'].values, 60*v1T['LK-GFR'].values, 'bo', linestyle='None', markersize=4, label='1T')\nplt.plot(60*v1T['RK iso-SK-GFR'].values, 60*v1T['RK-GFR'].values, 'bo', linestyle='None', markersize=4)\nplt.plot(60*v3T['LK iso-SK-GFR'].values, 60*v3T['LK-GFR'].values, 'ro', linestyle='None', markersize=4, label='3T')\nplt.plot(60*v3T['RK iso-SK-GFR'].values, 60*v3T['RK-GFR'].values, 'ro', linestyle='None', markersize=4)\nplt.plot(60*v3T['RK iso-SK-GFR'].values, 60*v3T['RK iso-SK-GFR'].values, linestyle='-', color='black')\nplt.xlabel(\"Isotope single-kidney GFR (mL/min)\")\nplt.ylabel(\"MRI single-kidney GFR (mL/min)\")\nplt.legend()\nplt.show()\n\nplt.plot(100*v1T['iso-DRF'].values, 100*v1T['DRF'].values, 'bo', linestyle='None', markersize=4, label='1T')\nplt.plot(100*v3T['iso-DRF'].values, 100*v3T['DRF'].values, 'ro', linestyle='None', markersize=4, label='3T')\nplt.plot([0,100], [0,100], linestyle='-', color='black')\nplt.xlabel(\"Isotope split renal function (%)\")\nplt.ylabel(\"MRI split renal function (%)\")\nplt.legend()\nplt.show()"
      ]
    },
    {
      "cell_type": "markdown",
      "metadata": {},
      "source": [
        "Compute bias and accuracy\n\n"
      ]
    },
    {
      "cell_type": "code",
      "execution_count": null,
      "metadata": {
        "collapsed": false
      },
      "outputs": [],
      "source": [
        "v = pd.pivot_table(results, values='value', columns='parameter', index=['subject','visit'])\n\niso = np.concat((60*v['LK iso-SK-GFR'].values, 60*v['RK iso-SK-GFR'].values))\nmri = np.concat((60*v['LK-GFR'].values, 60*v['RK-GFR'].values))\n\ndiff = mri-iso\nbias = np.mean(diff)\nerr =  1.96*np.std(diff)\nbias_err = 1.96*np.std(diff)/np.sqrt(np.size(diff))\n\nprint('-----------------')\nprint('Single-kidney GFR')\nprint('-----------------')\nprint('95% CI on the bias (ml/min): ', bias-bias_err, bias+bias_err)\nprint('95% CI on an individual measurement (ml/min): ', bias-err, bias+err)\n\niso = np.concat((100*v['iso-DRF'].values, 100*v['iso-DRF'].values))\nmri = np.concat((100*v['DRF'].values, 100*v['DRF'].values))\n\ndiff = mri-iso\nbias = np.mean(diff)\nerr =  1.96*np.std(diff)\nbias_err = 1.96*np.std(diff)/np.sqrt(np.size(diff))\n\nprint('--------------------')\nprint('Split renal function')\nprint('--------------------')\nprint('95% CI on the bias (%): ', bias-bias_err, bias+bias_err)\nprint('95% CI on an individual measurement (%): ', bias-err, bias+err)\n\n# Choose the last image as a thumbnail for the gallery\n# sphinx_gallery_thumbnail_number = -1"
      ]
    }
  ],
  "metadata": {
    "kernelspec": {
      "display_name": "Python 3",
      "language": "python",
      "name": "python3"
    },
    "language_info": {
      "codemirror_mode": {
        "name": "ipython",
        "version": 3
      },
      "file_extension": ".py",
      "mimetype": "text/x-python",
      "name": "python",
      "nbconvert_exporter": "python",
      "pygments_lexer": "ipython3",
      "version": "3.10.10"
    }
  },
  "nbformat": 4,
  "nbformat_minor": 0
}