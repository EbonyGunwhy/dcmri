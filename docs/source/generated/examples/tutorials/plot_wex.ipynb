{
  "cells": [
    {
      "cell_type": "markdown",
      "metadata": {},
      "source": [
        "\n# An exploration of water exchange effects\n\nThis tutorial will explore the effect of water exchange in a standard two-compartmental tissue with extended Tofts kinetics. Data acquisition is modelled using the steady-state model of a spoiled gradient echo sequence.\n\nThe three tissue compartments involved are the blood, interstitium and tissue cells. The effect of water exchange between blood and interstitium (**transendothelial** water exchange) and between interstitium and tissue cells (**transcytolemmal** water exchange) is separately investigated. The water exchange in the blood compartment, particularly between plasma and red blood cells, is assumed to be in the fast exhange limit throughout. \n"
      ]
    },
    {
      "cell_type": "markdown",
      "metadata": {},
      "source": [
        "## Simulation setup\nFirst we set up the simulation by importing the necessary packages and defining the constants that will be fixed throughout. \n\n"
      ]
    },
    {
      "cell_type": "code",
      "execution_count": null,
      "metadata": {
        "collapsed": false
      },
      "outputs": [],
      "source": [
        "import numpy as np\nimport matplotlib.pyplot as plt\nimport dcmri as dc\n\n# The constants defining the signal model and simulation settings\nconst = {\n    'TR': 0.005,                # Repetition time (sec)\n    'FA': 15.0,                 # Flip angle (deg)\n    'agent': 'gadoxetate',      # Contrast agent\n    'field_strength': 3.0,      # Magnetic field strength (T)\n    'R10': 1/dc.T1(3.0, 'muscle'),\n    'R10b': 1/dc.T1(3.0, 'blood'), \n}\n\ntacq, aif, _, _ = dc.fake_tissue(tacq=300, **const)\n\n# The ground-truth kinetic parameters of the extended Tofts model\nptruth = {\n    'S0':1,             # arbitrary units\n    'vp':0.05,          # mL/cm3\n    'Ktrans':0.1/60,    # mL/sec/cm3\n    'vi':0.30,          # mL/cm3\n} \ntruth = np.array(list(ptruth.values()))"
      ]
    },
    {
      "cell_type": "markdown",
      "metadata": {},
      "source": [
        "## Visualising water exchange effects\nWe'll start by exploring how the level of water exchange affects the measured signal. We will predict signals using explicit models in the limiting scenarios of fast water exchange (F) and no water exchange (N):\n\n"
      ]
    },
    {
      "cell_type": "code",
      "execution_count": null,
      "metadata": {
        "collapsed": false
      },
      "outputs": [],
      "source": [
        "# The fast water exchange limit (all barriers fully transparent to water) - this is the default:\nffx = dc.Tissue(aif=aif, t=tacq, **(const | ptruth)).predict(tacq)\n\n# The no water exchange limit (NN, both barriers impermeable to water). \nnnx = dc.Tissue(aif=aif, t=tacq, water_exchange='NN', **(const | ptruth)).predict(tacq)\n\n# A mixed case, with no transendothelial water exchange (N), but fast transcytolemmal water exchange (F):\nnfx = dc.Tissue(aif=aif, t=tacq, water_exchange='NF', **(const | ptruth)).predict(tacq) \n\n# The other mixed case (FN) with fast transendothelial water exchange (F), but no transcytolemmal water exchange (N):\nfnx = dc.Tissue(aif=aif, t=tacq, water_exchange='FN', **(const | ptruth)).predict(tacq)"
      ]
    },
    {
      "cell_type": "markdown",
      "metadata": {},
      "source": [
        "Now we turn to the intermediate case of restricted water exchange (R), where the water exchange is neither infinite or zero. A choice of ``PSe = 1`` mL/sec/cm3 and ``PSc = 2`` mL/sec/cm3 produces a curve that lies in between the extremes:\n\n"
      ]
    },
    {
      "cell_type": "code",
      "execution_count": null,
      "metadata": {
        "collapsed": false
      },
      "outputs": [],
      "source": [
        "# Signal with restricted (R) transendothelial and transcytolemmal water exchange (RR):\niix = dc.Tissue(aif=aif, t=tacq, water_exchange='RR', PSe=1, PSc=2, **(const | ptruth)).predict(tacq)"
      ]
    },
    {
      "cell_type": "markdown",
      "metadata": {},
      "source": [
        "We now plot the different results, using fast- and no-exchange limits for visual reference:\n\n"
      ]
    },
    {
      "cell_type": "code",
      "execution_count": null,
      "metadata": {
        "collapsed": false
      },
      "outputs": [],
      "source": [
        "fig, (ax0, ax1, ax2) = plt.subplots(1,3,figsize=(15,5))\n\nax0.set_title('No transendothelial exchange \\n Fast transcytolemmal exchange')\nax0.plot(tacq, ffx, 'g-', label='Fast exchange')\nax0.plot(tacq, nnx, 'b-', label='No exchange')\nax0.plot(tacq, nfx, 'r--', label='Intermediate exchange')\nax0.set_xlabel('Time (sec)')\nax0.set_ylabel('Signal (a.u.)')\nax0.legend()\n\nax1.set_title('Fast transendothelial exchange \\n No transcytolemmal exchange')\nax1.plot(tacq, ffx, 'g-', label='Fast exchange')\nax1.plot(tacq, nnx, 'b-', label='No exchange')\nax1.plot(tacq, fnx, 'r--', label='Intermediate exchange')\nax1.set_xlabel('Time (sec)')\nax1.set_ylabel('Signal (a.u.)')\nax1.legend()\n\nax2.set_title('Intermediate transendothelial exchange \\n Intermediate transcytolemmal exchange')\nax2.plot(tacq, ffx, 'g-', label='Fast exchange')\nax2.plot(tacq, nnx, 'b-', label='No exchange')\nax2.plot(tacq, iix, 'r--', label='Intermediate exchange')\nax2.set_xlabel('Time (sec)')\nax2.set_ylabel('Signal (a.u.)')\nax2.legend()\n\nplt.show()"
      ]
    },
    {
      "cell_type": "markdown",
      "metadata": {},
      "source": [
        "These figures show the expected observations: \n\n1. Water exchange levels have a measureable effect on signals, as shown by the clear difference between fast and slow exchange scenarios (blue vs. green curves). \n\n2. With fast transcytolemmal exchange but impermeable endothelium (left panel), the slowy changing extravascular part of the signal aligns with the fast exchange curve, and the first pass aligns with the no-exchange curve  \n\n3. Without transcytolemmal exchange the extravascular curve lines up with the no-exchange model (middle panel). The first pass is closer to the fast-exchange signal but does not align with it completely as it is partly obscured by already extravasated indicator.\n\n4. When both exchange levels are intermediate (right panel), then the signal is also intermediate between the extremes of fast and no exchange.\n\n**Note** while the effect of water exchange is detectable, it is comparatively small considering the difference between the blue and green curves represent the extremes of zero to maximal levels of water exchange. It is easily verified that changing kinetic parameters such as Ktrans over their entire range (zero to infinity) has a much larger impact on the signal. Water exchange is in that sense a second order effect.\n\n"
      ]
    },
    {
      "cell_type": "markdown",
      "metadata": {},
      "source": [
        "## Understanding water exchange bias\nSince the level of water exchange affects the signal, making inaccurate assumptions on the level of water exchange will create a bias in any measurement of the kinetic parameters. \n\nOne way to explore the scale of the water exchange bias is by generating data for a tissue in the fast exchange limit and analysing them making the opposite assumption that water exchange is negligible:\n\n"
      ]
    },
    {
      "cell_type": "code",
      "execution_count": null,
      "metadata": {
        "collapsed": false
      },
      "outputs": [],
      "source": [
        "# Launch a no-exchange model\nmodel = dc.Tissue(aif=aif, t=tacq, water_exchange='NN', **const)\n\n# To check the effect of training, first predict the signal using the untrained model\nnnx0 = model.predict(tacq)\n\n# Fit the model to the fast-exchange tissue\nmodel.train(tacq, ffx)\n\n# Predict the signal using the trained model\nnnx1 = model.predict(tacq)\n\n# Calculate the bias in the fitted parameters in %\npars = model.get_params('S0','vp','Ktrans','vi')\nbias = 100*(np.array(pars)-truth)/truth\n\n# Plot the model fits\nfig, ax0 = plt.subplots(1,1,figsize=(6,5))\nax0.set_title('Water exchange bias')\nax0.plot(tacq, ffx, 'g-', linewidth=3, label='Signal data (fast exchange tissue)')\nax0.plot(tacq, nnx0, 'b-', label='Prediction (before training)')\nax0.plot(tacq, nnx1, 'b--', label='Prediction (after training)')\nax0.set_xlabel('Time (sec)')\nax0.set_ylabel('Signal (a.u.)')\nax0.legend()\nplt.show()\n\n# Print the parameter bias\nprint('')\nprint('Bias in kinetic model parameters')\nprint('--------------------------------')\nprint('vp error:', round(bias[1],1), '%')\nprint('vi error:', round(bias[3],1), '%')\nprint('Ktrans error:', round(bias[2],1), '%')"
      ]
    },
    {
      "cell_type": "markdown",
      "metadata": {},
      "source": [
        "The plot shows that the trained model predicts the data with high accuracy, despite the inaccurate assumption of no water exchange. However the false assumption does lead to fitted parameters that are severely biased.\n\n"
      ]
    },
    {
      "cell_type": "markdown",
      "metadata": {},
      "source": [
        "## Removing water exchange bias\nThe model bias can be removed by generalizing the model to allow for any level of water exchange, avoiding the risk of making a false assumption on this point:\n\n"
      ]
    },
    {
      "cell_type": "code",
      "execution_count": null,
      "metadata": {
        "collapsed": false
      },
      "outputs": [],
      "source": [
        "# Launch a general water exchange model with default settings for all free parameters\nmodel = dc.Tissue(aif=aif, t=tacq, water_exchange='RR', **const)\n\n# Predict the signal using the untrained model as a reference\niix0 = model.predict(tacq)\n\n# Fit the model to the fast-exchange data and predict the signal again \n# (we reduce here the x-tolerance to speed up convergence). \niix1 = model.train(tacq, ffx, xtol=1e-4).predict(tacq)\n\n# Calculate the bias in the fitted parameters\npars = model.get_params('S0','vp','Ktrans','vi')\nbias = 100*(np.array(pars)-truth)/truth\n\n# Plot the model fits\nfig, ax0 = plt.subplots(1,1,figsize=(6,5))\nax0.set_title('Water exchange bias')\nax0.plot(tacq, ffx, 'g-', linewidth=3, label='Signal data (fast exchange tissue)')\nax0.plot(tacq, iix0, 'r-', label='Prediction (before training)')\nax0.plot(tacq, iix1, 'r--', label='Prediction (after training)')\nax0.set_xlabel('Time (sec)')\nax0.set_ylabel('Signal (a.u.)')\nax0.legend()\nplt.show()\n\n# Print the parameter bias\nprint('')\nprint('Bias in kinetic model parameters')\nprint('--------------------------------')\nprint('vp error:', round(bias[1],2), '%')\nprint('vi error:', round(bias[3],2), '%')\nprint('Ktrans error:', round(bias[2],2), '%')\n\n# Print the water permeability estimates\nprint('')\nprint('Water permeability estimates')\nprint('----------------------------')\nprint('PSe:', model.get_params('PSe', round_to=0), 'mL/sec/cm3')\nprint('PSc:', model.get_params('PSc', round_to=0), 'mL/sec/cm3')"
      ]
    },
    {
      "cell_type": "markdown",
      "metadata": {},
      "source": [
        "Plotting the results now shows a practically perfect fit to the data, and the measurements of the kinetic parameters are more accurate.  \n\nAs a bonus the water-exchange sensitive model also estimates the water permeability, which as expected produces values in the fast-exchange range. As the actual PS-values are infinite the estimates can never approximate the ground truth, but at this level the predicted data are effectively indistinguishable from fast-exchange signals. \n\nNote this does not automatically imply that water exchanges rates should always be included in the modelling. The data in this tutorial are noise free, and noise in the data may well mask more subtle structure such as that imposed by restricted water exchange.\n\n"
      ]
    },
    {
      "cell_type": "markdown",
      "metadata": {},
      "source": [
        "## Additional sources of bias\nThe results show that small residual errors remain in the kinetic parameters, even after removing the model bias. While the error may be negligible for practical purposes, it is useful and illustrative to explore its origin further.\n\nAny remaining bias must be due to one or more of the three remaining sources of error: (1) *sampling bias* - temporal undersampling in the data used for training, which at 1.5s creates a small mismatch with the exact (pseudo)continuous signals; (2) *convergence bias* - imperfect convergence of the model training; (3) *numerical bias* - numerical errors in the computation of the model solutions. \n\nWe can get some insight by fitting the data with an unbiased model, i.e. fitting the data with the same model that was used to generate it. This is a simple model that is likely to be much less susceptible to convergence or numerical bias, so this analysis exposes the sampling bias (alternatively we can generate data with much smaller temporal sampling intervals):\n\n"
      ]
    },
    {
      "cell_type": "code",
      "execution_count": null,
      "metadata": {
        "collapsed": false
      },
      "outputs": [],
      "source": [
        "# Train a fast-exchange model on the fast exchange data\nmodel = dc.Tissue(aif=aif, t=tacq, **const).train(tacq, ffx)\n\n# Calculate the bias relative to the ground truth\npars = model.get_params('S0','vp','Ktrans','vi')\nbias = 100*(np.array(pars)-truth)/truth\n\n# Print the bias for each kinetic parameter\nprint('')\nprint('Bias in kinetic model parameters')\nprint('--------------------------------')\nprint('vp error:', round(bias[1],2), '%')\nprint('vi error:', round(bias[3],2), '%')\nprint('Ktrans error:', round(bias[2],2), '%')"
      ]
    },
    {
      "cell_type": "markdown",
      "metadata": {},
      "source": [
        "Any remaining bias is smaller than 0.01%, which shows that temporal undersampling in this case only causes a minor error, and the residual errors observed with the more general model are due to imperfect convergence or numerical error. \n\nImperfect convergence is likely to play a role, as actual water PS values are infinite in this case, convergence is likely to be slow. Indeed - reducing the xtolerance and increasing the maximum number of iterations leads to increasingly accurate results.\n\nNumerical error may also play a role, since the general water exchange model is implemented using linear algebra involving operations such as matrix exponentials and numerical matrix inversion, which are likely to come with some numerical error. However the effect is likely small compared to other sources of error at play.\n\n"
      ]
    }
  ],
  "metadata": {
    "kernelspec": {
      "display_name": "Python 3",
      "language": "python",
      "name": "python3"
    },
    "language_info": {
      "codemirror_mode": {
        "name": "ipython",
        "version": 3
      },
      "file_extension": ".py",
      "mimetype": "text/x-python",
      "name": "python",
      "nbconvert_exporter": "python",
      "pygments_lexer": "ipython3",
      "version": "3.10.10"
    }
  },
  "nbformat": 4,
  "nbformat_minor": 0
}