{
  "cells": [
    {
      "cell_type": "markdown",
      "metadata": {},
      "source": [
        "\n# Single-kidney glomerular filtration rate\n\nThis examples illustrates the use of `~dcmri.Kidney` for measurement of \nsingle kidney glomerular filtration rate (SK-GFR). The script aims to \nreplicate a validation study comparing MRI-derived measurement of SK-GFR \nagainst reference measurement performed with radio-isotopes Basak et al 2018). \nThe study used 124 historical datasets collected in between the years 2000 and \n2010 at 1 Tesla and 3 Tesla MRI. The study concluded that while the \nMRI-derived values were unbiased, the precision was low and significant \nimprovements in data quality would be needed before this technique can be \napplied in clinical practice. The study was funded by \n[Kidney Research UK](https://www.kidneyresearchuk.org/).\n\n**Reference**\n\nBasak S, Buckley DL, Chrysochou C, Banerji A, Vassallo D, Odudu A, Kalra PA, \nSourbron SP. Analytical validation of single-kidney glomerular filtration \nrate and split renal function as measured with magnetic resonance renography. \nMagn Reson Imaging. 2019 Jun;59:53-60. doi: 10.1016/j.mri.2019.03.005. \n[[URL]](https://pubmed.ncbi.nlm.nih.gov/30849485/).\n"
      ]
    },
    {
      "cell_type": "markdown",
      "metadata": {},
      "source": [
        "## Setup\n\n"
      ]
    },
    {
      "cell_type": "code",
      "execution_count": null,
      "metadata": {
        "collapsed": false
      },
      "outputs": [],
      "source": [
        "# Import packages and fetch data\nimport pandas as pd\nimport numpy as np\nimport matplotlib.pyplot as plt\n\nimport dcmri as dc\n\n# Fetch the data\ndata = dc.fetch('KRUK')"
      ]
    },
    {
      "cell_type": "markdown",
      "metadata": {},
      "source": [
        "## Model definition\nIn order to avoid some repetition in this script, we define a function that \nreturns a trained model for a single dataset:\n\n"
      ]
    },
    {
      "cell_type": "code",
      "execution_count": null,
      "metadata": {
        "collapsed": false
      },
      "outputs": [],
      "source": [
        "def kidney_model(scan, kidney):\n\n    # Get B0 and precontrast T1\n    B0 = scan['field_strength']\n    T1 = scan[kidney+' T1']\n    T1 = dc.T1(B0, 'kidney') if T1 is None else T1\n\n    # Set kidney model parameters\n    model = dc.Kidney(\n        aif = scan['aorta'], \n        t = scan['time'],\n        vol = scan[kidney+' vol'],\n        R10 = 1/T1,\n        R10a = 1/dc.T1(B0, 'blood'),\n        sequence = 'SS',\n        TR = scan['TR'],\n        FA = scan['FA'],\n        field_strength = B0,\n        agent = scan['agent'],\n        n0 = scan['n0'],\n    )\n\n    # Customize free parameter ranges\n    model.set_free(\n        pop = 'Ta', \n        Fp = [0, 0.05], \n        FF = [0, 0.3], \n        Tt = [30, np.inf],\n    )\n\n    # Train the kidney model on the data\n    xdata = scan['time']\n    ydata = scan[kidney]\n    model.train(xdata, ydata)\n\n    return xdata, ydata, model"
      ]
    },
    {
      "cell_type": "markdown",
      "metadata": {},
      "source": [
        "## Check model fit\nBefore running the full analysis on all cases, lets illustrate the results \nby fitting the left kidney of the first subject:\n\n"
      ]
    },
    {
      "cell_type": "code",
      "execution_count": null,
      "metadata": {
        "collapsed": false
      },
      "outputs": [],
      "source": [
        "time, signal, model = kidney_model(data[0], 'LK')"
      ]
    },
    {
      "cell_type": "markdown",
      "metadata": {},
      "source": [
        "Plot the results to check that the model has fitted the data:\n\n"
      ]
    },
    {
      "cell_type": "code",
      "execution_count": null,
      "metadata": {
        "collapsed": false
      },
      "outputs": [],
      "source": [
        "model.plot(time, signal)"
      ]
    },
    {
      "cell_type": "markdown",
      "metadata": {},
      "source": [
        "Print the measured model parameters and any derived parameters and check \nthat standard deviations of measured parameters are small relative to the \nvalue, indicating that the parameters are measured reliably:\n\n"
      ]
    },
    {
      "cell_type": "code",
      "execution_count": null,
      "metadata": {
        "collapsed": false
      },
      "outputs": [],
      "source": [
        "model.print_params(round_to=3)"
      ]
    },
    {
      "cell_type": "markdown",
      "metadata": {},
      "source": [
        "The measured SK-GFR for this kidney (0.43) is somewhat higher than the \nradio-isotope reference value (0.28):\n\n"
      ]
    },
    {
      "cell_type": "code",
      "execution_count": null,
      "metadata": {
        "collapsed": false
      },
      "outputs": [],
      "source": [
        "print('-----------------------------')\nprint('Comparison to reference value')\nprint('-----------------------------')\nprint('Radio-isotope SK-GFR: ', data[0]['LK iso-SK-GFR'])"
      ]
    },
    {
      "cell_type": "markdown",
      "metadata": {},
      "source": [
        "## Fit all data\nNow that we have illustrated an individual result in some detail, we proceed \nto determine SK-GFR for all datasets:\n\n"
      ]
    },
    {
      "cell_type": "code",
      "execution_count": null,
      "metadata": {
        "collapsed": false
      },
      "outputs": [],
      "source": [
        "results = []\n\nfor scan in data:\n    for kidney in ['LK', 'RK']:\n        if kidney not in scan:\n            continue\n        xdata, ydata, model = kidney_model(scan, kidney)\n\n        # Export parameters and add reference value\n        pars = model.export_params()\n        pars['iso-SK-GFR'] = [\n            'Isotope single-kidney GFR', \n            scan[kidney + ' iso-SK-GFR'], \n            'mL/sec', \n            0,\n        ]\n\n        # Convert to a dataframe\n        pars = pd.DataFrame.from_dict(\n            pars, \n            orient = 'index', \n            columns = [\"name\", \"value\", \"unit\", \"stdev\"])\n        pars['subject'] = scan['subject']\n        pars['kidney'] = kidney\n        pars['visit'] = scan['visit']\n        pars['parameter'] = pars.index\n        pars['B0'] = scan['field_strength']\n\n        # Append to results\n        results.append(pars)\n\n# Combine all results into a single dataframe\nresults = pd.concat(results).reset_index(drop=True)"
      ]
    },
    {
      "cell_type": "markdown",
      "metadata": {},
      "source": [
        "Plot MRI values and reference values\n\n"
      ]
    },
    {
      "cell_type": "code",
      "execution_count": null,
      "metadata": {
        "collapsed": false
      },
      "outputs": [],
      "source": [
        "# Validation\nv1T = pd.pivot_table(results[results.B0==1], values='value', columns='parameter', index=['subject','kidney','visit'])\nv3T = pd.pivot_table(results[results.B0==3], values='value', columns='parameter', index=['subject','kidney','visit'])\n\niso1T, iso3T = 60*v1T['iso-SK-GFR'].values, 60*v3T['iso-SK-GFR'].values\nmri1T, mri3T = 60*v1T['SK-GFR'].values, 60*v3T['SK-GFR'].values\n\nplt.title('Single-kidney GFR (SK-GFR)')\nplt.plot(iso1T, mri1T, 'bo', linestyle='None', markersize=4, label='1T')\nplt.plot(iso3T, mri3T, 'ro', linestyle='None', markersize=4, label='3T')\nplt.plot(iso3T, iso3T, linestyle='-', color='black')\nplt.ylabel(\"MRI SK-GFR (mL/min)\")\nplt.xlabel(\"Isotope SK-GFR (mL/min)\")\n#plt.xlim(0,100)\n#plt.ylim(0,200)\nplt.legend()\nplt.show()"
      ]
    },
    {
      "cell_type": "markdown",
      "metadata": {},
      "source": [
        "Compute bias and accuracy\n\n"
      ]
    },
    {
      "cell_type": "code",
      "execution_count": null,
      "metadata": {
        "collapsed": false
      },
      "outputs": [],
      "source": [
        "v = pd.pivot_table(results, values='value', columns='parameter', index=['subject','kidney','visit'])\n\niso = 60*v['iso-SK-GFR'].values\nmri = 60*v['SK-GFR'].values\n\ndiff = mri-iso\nbias = np.mean(diff)\nerr =  1.96*np.std(diff)\nbias_err = 1.96*np.std(diff)/np.sqrt(np.size(diff))\n\nprint('-----------------')\nprint('Single-kidney GFR')\nprint('-----------------')\nprint('95% CI on the bias (ml/min): ', bias-bias_err, bias+bias_err) # paper 0.56\nprint('95% CI on individual error (ml/min): ', bias-err, bias+err) # paper [-28, 29]"
      ]
    },
    {
      "cell_type": "markdown",
      "metadata": {},
      "source": [
        "As the results show, these data do not replicate the results from the \noriginal study exactly..\n\n[ ...more results coming soon... ]\n\n"
      ]
    },
    {
      "cell_type": "code",
      "execution_count": null,
      "metadata": {
        "collapsed": false
      },
      "outputs": [],
      "source": [
        "# Choose the last image as a thumbnail for the gallery\n# sphinx_gallery_thumbnail_number = -1"
      ]
    }
  ],
  "metadata": {
    "kernelspec": {
      "display_name": "Python 3",
      "language": "python",
      "name": "python3"
    },
    "language_info": {
      "codemirror_mode": {
        "name": "ipython",
        "version": 3
      },
      "file_extension": ".py",
      "mimetype": "text/x-python",
      "name": "python",
      "nbconvert_exporter": "python",
      "pygments_lexer": "ipython3",
      "version": "3.10.10"
    }
  },
  "nbformat": 4,
  "nbformat_minor": 0
}