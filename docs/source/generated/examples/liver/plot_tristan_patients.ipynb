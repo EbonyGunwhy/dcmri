{
  "cells": [
    {
      "cell_type": "markdown",
      "metadata": {},
      "source": [
        "\n# Clinical - rifampicin effect in subjects with impaired liver function\n\nThe data show in this example aimed to demonstrates the effect of rifampicin \non liver function of patients with impaired function. The use \ncase is provided by the liver work package of the \n[TRISTAN project](https://www.imi-tristan.eu/liver)  which develops imaging \nbiomarkers for drug safety assessment. \n\nThe data were acquired in the aorta and liver in 3 patients with \ndynamic gadoxetate-enhanced MRI. The study participants take rifampicin \nas part of their routine clinical workup, with an aim to promote their liver \nfunction. For this study, they were taken off rifampicin 3 days before the \nfirst scan, and placed back on rifampicin 3 days before the second scan. The \naim was to determine the effect if rifampicin in uptake and \nexcretion function of the liver.\n\nThe data confirmed that patients had significantly reduced uptake and excretion \nfunction in the absence of rifampicin. Rifampicin adminstration promoted their \nexcretory function but had no effect on their uptake function. \n\nReference\n--------- \n\nManuscript in preparation..\n"
      ]
    },
    {
      "cell_type": "markdown",
      "metadata": {},
      "source": [
        "## Setup\n\n"
      ]
    },
    {
      "cell_type": "code",
      "execution_count": null,
      "metadata": {
        "collapsed": false
      },
      "outputs": [],
      "source": [
        "# Import packages\nimport pandas as pd\nimport matplotlib.pyplot as plt\nimport dcmri as dc\n\n# Fetch the data from the TRISTAN rifampicin study:\ndata = dc.fetch('tristan_gothenburg')"
      ]
    },
    {
      "cell_type": "markdown",
      "metadata": {},
      "source": [
        "## Model definition\nIn order to avoid some repetition in this script, we define a function that \nreturns a trained model for a single dataset with 2 scans:\n\n"
      ]
    },
    {
      "cell_type": "code",
      "execution_count": null,
      "metadata": {
        "collapsed": false
      },
      "outputs": [],
      "source": [
        "def tristan_human_2scan(data, **kwargs):\n\n    model = dc.AortaLiver2scan(\n\n        # Injection parameters\n        weight = data['weight'],\n        agent = data['agent'],\n        dose = data['dose'][0],\n        dose2 = data['dose'][1],\n        rate = data['rate'],\n\n        # Acquisition parameters\n        field_strength = data['field_strength'],\n        t0 = data['t0'],\n        TR = data['TR'],\n        FA = data['FA'],\n\n        # Signal parameters\n        R10a = data['R10b'],\n        R102a = data['R102b'],\n        R10l = data['R10l'],\n        R102l = data['R102l'],\n\n        # Tissue parameters\n        H = data['Hct'],\n        vol = data['vol'],\n    )\n\n    xdata = (\n        data['time1aorta'], \n        data['time2aorta'], \n        data['time1liver'], \n        data['time2liver'],\n    )\n    ydata = (\n        data['signal1aorta'], \n        data['signal2aorta'], \n        data['signal1liver'], \n        data['signal2liver'],\n    )\n    \n    model.train(xdata, ydata, **kwargs)\n\n    return xdata, ydata, model"
      ]
    },
    {
      "cell_type": "markdown",
      "metadata": {},
      "source": [
        "Before running the full analysis on all cases, lets illustrate the results \nby fitting the baseline visit for the first subject. We use maximum \nverbosity to get some feedback about the iterations: \n\n"
      ]
    },
    {
      "cell_type": "code",
      "execution_count": null,
      "metadata": {
        "collapsed": false
      },
      "outputs": [],
      "source": [
        "xdata, ydata, model = tristan_human_2scan(data[0], xtol=1e-3, verbose=2)"
      ]
    },
    {
      "cell_type": "markdown",
      "metadata": {},
      "source": [
        "Plot the results to check that the model has fitted the data. The plot also \nshows the concentration in the two liver compartments separately:\n\n"
      ]
    },
    {
      "cell_type": "code",
      "execution_count": null,
      "metadata": {
        "collapsed": false
      },
      "outputs": [],
      "source": [
        "model.plot(xdata, ydata)"
      ]
    },
    {
      "cell_type": "markdown",
      "metadata": {},
      "source": [
        "Print the measured model parameters and any derived parameters. Standard \ndeviations are included as a measure of parameter uncertainty, indicate that \nall parameters are identified robustly:\n\n"
      ]
    },
    {
      "cell_type": "code",
      "execution_count": null,
      "metadata": {
        "collapsed": false
      },
      "outputs": [],
      "source": [
        "model.print_params(round_to=3)"
      ]
    },
    {
      "cell_type": "markdown",
      "metadata": {},
      "source": [
        "## Fit all data\nNow that we have illustrated an individual result in some detail, we \nproceed with fitting the data for all 3 patients, at baseline and \nrifampicin visit. We do not print output for these individual computations \nand instead store results in one single dataframe:\n\n"
      ]
    },
    {
      "cell_type": "code",
      "execution_count": null,
      "metadata": {
        "collapsed": false
      },
      "outputs": [],
      "source": [
        "results = []\n\n# Loop over all datasets\nfor scan in data:\n\n    # Generate a trained model for the scan:\n    _, _, model = tristan_human_2scan(scan, xtol=1e-3)\n\n    # Convert the parameter dictionary to a dataframe\n    pars = model.export_params()\n    pars = pd.DataFrame.from_dict(pars, \n        orient = 'index', \n        columns = [\"name\", \"value\", \"unit\", 'stdev'])\n    pars['parameter'] = pars.index\n    pars['visit'] = scan['visit']\n    pars['subject'] = scan['subject']\n\n    # Add the dataframe to the list of results\n    results.append(pars)\n\n# Combine all results into a single dataframe.\nresults = pd.concat(results).reset_index(drop=True)\n\n# Print all results\nprint(results.to_string())"
      ]
    },
    {
      "cell_type": "markdown",
      "metadata": {},
      "source": [
        "## Plot individual results\nNow lets visualise the main results from the study by plotting the drug \neffect for all volunteers, and for both biomarkers: uptake rate ``khe`` \nand excretion rate ``kbh``:\n\n"
      ]
    },
    {
      "cell_type": "code",
      "execution_count": null,
      "metadata": {
        "collapsed": false
      },
      "outputs": [],
      "source": [
        "# Set up the figure\nclr = ['tab:blue', 'tab:orange', 'tab:green', 'tab:red', 'tab:purple', \n       'tab:brown', 'tab:pink', 'tab:gray', 'tab:olive', 'tab:cyan']\nfs = 10\nfig, (ax1, ax2) = plt.subplots(1, 2, figsize=(8,3))\nfig.subplots_adjust(wspace=0.5)\nax1.set_title('Hepatocellular uptake rate', fontsize=fs, pad=10)\nax1.set_ylabel('khe (mL/min/100mL)', fontsize=fs)\nax1.set_ylim(0, 60)\nax1.tick_params(axis='x', labelsize=fs)\nax1.tick_params(axis='y', labelsize=fs)\nax2.set_title('Biliary excretion rate', fontsize=fs, pad=10)\nax2.set_ylabel('kbh (mL/min/100mL)', fontsize=fs)\nax2.set_ylim(0, 10)\nax2.tick_params(axis='x', labelsize=fs)\nax2.tick_params(axis='y', labelsize=fs)\n\n# Pivot data for both visits to wide format for easy access:\nv1 = pd.pivot_table(results[results.visit=='control'], values='value', \n                    columns='parameter', index='subject')\nv2 = pd.pivot_table(results[results.visit=='drug'], values='value', \n                    columns='parameter', index='subject')\n\n# Plot the rate constants in units of mL/min/100mL\nfor s in v1.index:\n    x = ['control']\n    khe = [6000*v1.at[s,'khe']]\n    kbh = [6000*v1.at[s,'kbh']] \n    if s in v2.index:\n        x += ['drug']\n        khe += [6000*v2.at[s,'khe']]\n        kbh += [6000*v2.at[s,'kbh']] \n    color = clr[int(s)-1]\n    ax1.plot(x, khe, '-', label=s, marker='o', markersize=6, color=color)\n    ax2.plot(x, kbh, '-', label=s, marker='o', markersize=6, color=color)\nplt.show()\n\n# Choose the last image as a thumbnail for the gallery\n# sphinx_gallery_thumbnail_number = -1"
      ]
    }
  ],
  "metadata": {
    "kernelspec": {
      "display_name": "Python 3",
      "language": "python",
      "name": "python3"
    },
    "language_info": {
      "codemirror_mode": {
        "name": "ipython",
        "version": 3
      },
      "file_extension": ".py",
      "mimetype": "text/x-python",
      "name": "python",
      "nbconvert_exporter": "python",
      "pygments_lexer": "ipython3",
      "version": "3.11.9"
    }
  },
  "nbformat": 4,
  "nbformat_minor": 0
}